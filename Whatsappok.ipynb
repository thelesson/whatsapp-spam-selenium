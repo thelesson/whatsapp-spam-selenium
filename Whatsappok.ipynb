{
 "cells": [
  {
   "cell_type": "code",
   "execution_count": 2,
   "metadata": {},
   "outputs": [
    {
     "name": "stdout",
     "output_type": "stream",
     "text": [
      "Requirement already satisfied: selenium in c:\\users\\algoritmo9\\anaconda3\\lib\\site-packages (3.141.0)\n",
      "Requirement already satisfied: urllib3 in c:\\users\\algoritmo9\\anaconda3\\lib\\site-packages (from selenium) (1.25.8)\n"
     ]
    }
   ],
   "source": [
    "!pip install selenium"
   ]
  },
  {
   "cell_type": "code",
   "execution_count": null,
   "metadata": {},
   "outputs": [],
   "source": [
    "import os\n",
    "import sys\n",
    "os.path.dirname(sys.executable)"
   ]
  },
  {
   "cell_type": "code",
   "execution_count": null,
   "metadata": {},
   "outputs": [],
   "source": []
  },
  {
   "cell_type": "code",
   "execution_count": null,
   "metadata": {},
   "outputs": [],
   "source": [
    "from time import sleep\n",
    "from selenium import webdriver\n",
    "\n",
    "navegador = webdriver.Chrome()\n",
    "navegador.get(\"https://web.whatsapp.com/\")\n",
    "nome = input('Insira o nome do contato ou grupo: ')\n",
    "msg = input('Insira sua mensagem : ')\n",
    "contador = int(input('Número de mensagens a ser enviadas: '))\n",
    "\n",
    "input('Qr Code Ok?')\n",
    "\n",
    "user = navegador.find_element_by_xpath('//span[@title = \"{}\"]'.format(nome))\n",
    "user.click()\n",
    "\n",
    "#msg_box = driver.find_element_by_class_name('_2S1VP')\n",
    "msg_box = navegador.find_element_by_xpath('//*[@id=\"main\"]/footer/div[1]/div[2]/div/div[2]')\n",
    "\n",
    "for i in range(contador):\n",
    "    msg_box.send_keys(msg)\n",
    "    button = navegador.find_element_by_class_name('_1U1xa')\n",
    "    button.click()\n",
    "\n",
    "\n",
    "\n"
   ]
  },
  {
   "cell_type": "code",
   "execution_count": null,
   "metadata": {},
   "outputs": [],
   "source": []
  },
  {
   "cell_type": "code",
   "execution_count": null,
   "metadata": {},
   "outputs": [],
   "source": []
  }
 ],
 "metadata": {
  "kernelspec": {
   "display_name": "Python 3",
   "language": "python",
   "name": "python3"
  },
  "language_info": {
   "codemirror_mode": {
    "name": "ipython",
    "version": 3
   },
   "file_extension": ".py",
   "mimetype": "text/x-python",
   "name": "python",
   "nbconvert_exporter": "python",
   "pygments_lexer": "ipython3",
   "version": "3.7.6"
  }
 },
 "nbformat": 4,
 "nbformat_minor": 4
}
